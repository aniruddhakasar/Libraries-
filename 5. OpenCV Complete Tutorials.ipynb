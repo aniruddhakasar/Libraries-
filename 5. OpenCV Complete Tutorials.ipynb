{
 "cells": [
  {
   "cell_type": "markdown",
   "metadata": {},
   "source": [
    "# <center> OpenCV Complete Tutorials "
   ]
  },
  {
   "cell_type": "code",
   "execution_count": null,
   "metadata": {},
   "outputs": [],
   "source": []
  },
  {
   "cell_type": "markdown",
   "metadata": {},
   "source": [
    "## Importing Library "
   ]
  },
  {
   "cell_type": "code",
   "execution_count": 1,
   "metadata": {},
   "outputs": [],
   "source": [
    "import cv2                            # IMPORTING OPENCV LIBRARY \n",
    "import numpy as np                    # IMPORTING NUMPY LIBRARY "
   ]
  },
  {
   "cell_type": "markdown",
   "metadata": {},
   "source": [
    "## Task 1. Read a Image "
   ]
  },
  {
   "cell_type": "code",
   "execution_count": 2,
   "metadata": {},
   "outputs": [],
   "source": [
    "img = cv2.imread('national park.jpg')\n",
    "cv2.imshow('IMAGE',img)\n",
    "\n",
    "cv2.waitKey(0)\n",
    "cv2.destroyAllWindows()"
   ]
  },
  {
   "cell_type": "markdown",
   "metadata": {},
   "source": []
  },
  {
   "cell_type": "markdown",
   "metadata": {},
   "source": [
    "## Task 2. Write a Image"
   ]
  },
  {
   "cell_type": "code",
   "execution_count": 3,
   "metadata": {},
   "outputs": [],
   "source": [
    "img = cv2.imread('national park.jpg')\n",
    "cv2.imshow('IMAGE',img)\n",
    "\n",
    "cv2.imwrite('NEW NATIONal PARK.jpg',img)\n",
    "\n",
    "cv2.waitKey(0)\n",
    "cv2.destroyAllWindows()"
   ]
  },
  {
   "cell_type": "code",
   "execution_count": null,
   "metadata": {},
   "outputs": [],
   "source": []
  },
  {
   "cell_type": "markdown",
   "metadata": {},
   "source": [
    "## Task 3. Get Image Info "
   ]
  },
  {
   "cell_type": "code",
   "execution_count": 4,
   "metadata": {},
   "outputs": [
    {
     "name": "stdout",
     "output_type": "stream",
     "text": [
      "Image Info: (396, 498, 3)\n",
      "HEIGHT Info: 396\n",
      "WIDTH Info: 498\n",
      "LAYER Info: 3\n"
     ]
    }
   ],
   "source": [
    "img = cv2.imread('national park.jpg')\n",
    "cv2.imshow('IMAGE',img)\n",
    "\n",
    "print('Image Info:',img.shape)\n",
    "print('HEIGHT Info:',img.shape[0])\n",
    "print('WIDTH Info:',img.shape[1])\n",
    "print('LAYER Info:',img.shape[2])\n",
    "\n",
    "cv2.waitKey(0)\n",
    "cv2.destroyAllWindows()"
   ]
  },
  {
   "cell_type": "code",
   "execution_count": null,
   "metadata": {},
   "outputs": [],
   "source": []
  },
  {
   "cell_type": "markdown",
   "metadata": {},
   "source": [
    "## Task 4.  Convert RGB to Gray Scale"
   ]
  },
  {
   "cell_type": "code",
   "execution_count": 5,
   "metadata": {},
   "outputs": [],
   "source": [
    "img = cv2.imread('national park.jpg',0)\n",
    "cv2.imshow('GRAY IMAGE',img)\n",
    "\n",
    "cv2.waitKey(0)\n",
    "cv2.destroyAllWindows()"
   ]
  },
  {
   "cell_type": "code",
   "execution_count": null,
   "metadata": {},
   "outputs": [],
   "source": []
  },
  {
   "cell_type": "markdown",
   "metadata": {},
   "source": [
    "## Task 5. Convert RGB to Binary "
   ]
  },
  {
   "cell_type": "code",
   "execution_count": 6,
   "metadata": {},
   "outputs": [],
   "source": [
    "img = cv2.imread('national park.jpg',0)\n",
    "cv2.imshow('GRAY IMAGE',img)\n",
    "\n",
    "cv2.waitKey(0)\n",
    "cv2.destroyAllWindows()"
   ]
  },
  {
   "cell_type": "code",
   "execution_count": 7,
   "metadata": {},
   "outputs": [
    {
     "data": {
      "text/plain": [
       "13"
      ]
     },
     "execution_count": 7,
     "metadata": {},
     "output_type": "execute_result"
    }
   ],
   "source": [
    "ret, bw = cv2.threshold(img , 127, 255, cv2.THRESH_BINARY)       # THRESHOLD(DATA , MIN , MAX , TYPE)\n",
    "cv2.imshow('BINARY IMAGE',bw)\n",
    "cv2.waitKey(0)"
   ]
  },
  {
   "cell_type": "code",
   "execution_count": null,
   "metadata": {},
   "outputs": [],
   "source": []
  },
  {
   "cell_type": "markdown",
   "metadata": {},
   "source": [
    "## Task 6. Convert RGB to HSV"
   ]
  },
  {
   "cell_type": "code",
   "execution_count": 8,
   "metadata": {},
   "outputs": [],
   "source": [
    "img = cv2.imread('national park.jpg')\n",
    "hsv = cv2.cvtColor(img , cv2.COLOR_BGR2HSV)\n",
    "\n",
    "cv2.imshow('HSV IMAGE',hsv)\n",
    "cv2.waitKey(0)\n",
    "\n",
    "cv2.imshow('HUE-VIEW',hsv[:,:,0])\n",
    "cv2.waitKey(0)\n",
    "\n",
    "cv2.imshow('SATURATION',hsv[:,:,1])\n",
    "cv2.waitKey(0)\n",
    "\n",
    "cv2.imshow('VALUE-VIEW',hsv[:,:,2])\n",
    "cv2.waitKey(0)\n",
    "\n",
    "cv2.destroyAllWindows()"
   ]
  },
  {
   "cell_type": "code",
   "execution_count": null,
   "metadata": {},
   "outputs": [],
   "source": []
  },
  {
   "cell_type": "markdown",
   "metadata": {},
   "source": [
    "## Task 7. Extract RGB Color Space  "
   ]
  },
  {
   "cell_type": "code",
   "execution_count": 9,
   "metadata": {},
   "outputs": [],
   "source": [
    "img = cv2.imread('national park.jpg')\n",
    "B,G,R = cv2.split(img)\n",
    "zeros = np.zeros(img.shape[:2],dtype = 'uint8')\n",
    "\n",
    "cv2.imshow('RED', cv2.merge([zeros,zeros,R]))\n",
    "cv2.waitKey(0)\n",
    "\n",
    "cv2.imshow('GREEN', cv2.merge([zeros,G,zeros]))\n",
    "cv2.waitKey(0)\n",
    "\n",
    "cv2.imshow('BLUE', cv2.merge([B,zeros,zeros]))\n",
    "cv2.waitKey(0)\n",
    "\n",
    "cv2.destroyAllWindows()"
   ]
  },
  {
   "cell_type": "code",
   "execution_count": null,
   "metadata": {},
   "outputs": [],
   "source": []
  },
  {
   "cell_type": "markdown",
   "metadata": {},
   "source": [
    "## Task 8. Image Translation "
   ]
  },
  {
   "cell_type": "code",
   "execution_count": 10,
   "metadata": {},
   "outputs": [
    {
     "name": "stdout",
     "output_type": "stream",
     "text": [
      "HEIGHT : 396\n",
      "WIDTH : 498\n",
      "QUARTER HEIGHT : 99.0\n",
      "QUARTER WIDTH : 124.5\n",
      "TRANSLATION MATRIX : [[  1.    0.  124.5]\n",
      " [  0.    1.   99. ]]\n"
     ]
    }
   ],
   "source": [
    "img = cv2.imread('national park.jpg')\n",
    "\n",
    "H,W = img.shape[:2]\n",
    "print('HEIGHT :',H)\n",
    "print('WIDTH :',W)\n",
    "\n",
    "qua_H , qua_W = H/4 , W/4\n",
    "print('QUARTER HEIGHT :',qua_H)\n",
    "print('QUARTER WIDTH :',qua_W)\n",
    "\n",
    "trans_M = np.float32([[1,0,qua_W],\n",
    "                     [0,1,qua_H]])\n",
    "print('TRANSLATION MATRIX :',trans_M)\n",
    "\n",
    "img_trans = cv2.warpAffine(img , trans_M , (W,H))\n",
    "cv2.imshow('TRANS_IMAGE',img_trans)\n",
    "\n",
    "cv2.waitKey(0)\n",
    "cv2.destroyAllWindows()"
   ]
  },
  {
   "cell_type": "code",
   "execution_count": null,
   "metadata": {},
   "outputs": [],
   "source": []
  },
  {
   "cell_type": "markdown",
   "metadata": {},
   "source": [
    "## Task 9. Image Rotation  "
   ]
  },
  {
   "cell_type": "code",
   "execution_count": 11,
   "metadata": {},
   "outputs": [
    {
     "name": "stdout",
     "output_type": "stream",
     "text": [
      "HEIGHT : 396\n",
      "WIDTH : 498\n"
     ]
    }
   ],
   "source": [
    "img = cv2.imread('national park.jpg')\n",
    "\n",
    "H,W = img.shape[:2]\n",
    "print('HEIGHT :',H)\n",
    "print('WIDTH :',W)\n",
    "\n",
    "rotate_M = cv2.getRotationMatrix2D((W/2,H/2) , 70 , 0.5)                        # (DATA , DEGREE , SCALING FACTOR )\n",
    "img_rotate = cv2.warpAffine(img , rotate_M , (W,H))                             # (DATA1 , DATA2 , BYHOWMUCH )\n",
    "\n",
    "cv2.imshow('IMAGE',img)\n",
    "cv2.waitKey(0)\n",
    "cv2.imshow('ROTATION IMAGE',img_rotate)\n",
    "cv2.waitKey(0)\n",
    "\n",
    "cv2.destroyAllWindows()"
   ]
  },
  {
   "cell_type": "code",
   "execution_count": null,
   "metadata": {},
   "outputs": [],
   "source": []
  },
  {
   "cell_type": "markdown",
   "metadata": {},
   "source": [
    "## Task 10. Image Transpose "
   ]
  },
  {
   "cell_type": "code",
   "execution_count": 12,
   "metadata": {},
   "outputs": [],
   "source": [
    "img = cv2.imread('national park.jpg')\n",
    "\n",
    "new_img = cv2.transpose(img)\n",
    "\n",
    "cv2.imshow('IMAGE',img)\n",
    "cv2.waitKey(0)\n",
    "cv2.imshow('TRANSPOSE IMAGE',new_img)\n",
    "cv2.waitKey(0)\n",
    "\n",
    "cv2.destroyAllWindows()"
   ]
  },
  {
   "cell_type": "code",
   "execution_count": null,
   "metadata": {},
   "outputs": [],
   "source": []
  },
  {
   "cell_type": "markdown",
   "metadata": {},
   "source": [
    "## Task 11. Image Resizing"
   ]
  },
  {
   "cell_type": "code",
   "execution_count": 13,
   "metadata": {},
   "outputs": [],
   "source": [
    "img = cv2.imread('national park.jpg')\n",
    "\n",
    "resize_1 = cv2.resize(img ,None, fx = 0.75 , fy = 0.75)\n",
    "resize_2 = cv2.resize(img ,None, fx = 1.5 , fy = 1.5 , interpolation = cv2.INTER_CUBIC)\n",
    "resize_3 = cv2.resize(img ,(900,400) , interpolation = cv2.INTER_AREA)\n",
    "\n",
    "cv2.imshow('IMAGE',img)\n",
    "cv2.waitKey(0)\n",
    "cv2.imshow('RESIZE IMAGE-LINEAR',resize_1)\n",
    "cv2.waitKey(0)\n",
    "cv2.imshow('RESIZE IMAGE-CUBIC',resize_2)\n",
    "cv2.waitKey(0)\n",
    "cv2.imshow('RESIZE IMAGE-SKEWED',resize_3)\n",
    "cv2.waitKey(0)\n",
    "\n",
    "cv2.destroyAllWindows()"
   ]
  },
  {
   "cell_type": "code",
   "execution_count": null,
   "metadata": {},
   "outputs": [],
   "source": []
  },
  {
   "cell_type": "markdown",
   "metadata": {},
   "source": [
    "## Task 12.  Image Pyramid "
   ]
  },
  {
   "cell_type": "code",
   "execution_count": 14,
   "metadata": {},
   "outputs": [],
   "source": [
    "img = cv2.imread('national park.jpg')\n",
    "\n",
    "small = cv2.pyrDown(img)\n",
    "large = cv2.pyrUp(img)\n",
    "\n",
    "cv2.imshow('IMAGE',img)\n",
    "cv2.waitKey(0)\n",
    "cv2.imshow('SMALL IMAGE',small)\n",
    "cv2.waitKey(0)\n",
    "cv2.imshow('LARGE IMAGE',large)\n",
    "cv2.waitKey(0)\n",
    "\n",
    "cv2.destroyAllWindows()"
   ]
  },
  {
   "cell_type": "code",
   "execution_count": null,
   "metadata": {},
   "outputs": [],
   "source": []
  },
  {
   "cell_type": "markdown",
   "metadata": {},
   "source": [
    "## Task 13. Image Cropping "
   ]
  },
  {
   "cell_type": "code",
   "execution_count": 15,
   "metadata": {},
   "outputs": [],
   "source": [
    "img = cv2.imread('national park.jpg')\n",
    "\n",
    "H,W = img.shape[:2]\n",
    "row_S,col_S = int(H * 0.14) , int(W * 0.14)\n",
    "row_E,col_E = int(H * 0.37) , int(W * 0.37)\n",
    "\n",
    "crop = img[row_S:row_E , row_E:col_E]\n",
    "\n",
    "cv2.imshow('IMAGE',img)\n",
    "cv2.waitKey(0)\n",
    "cv2.imshow('CROPPED IMAGE',crop)\n",
    "cv2.waitKey(0)\n",
    "\n",
    "cv2.destroyAllWindows()"
   ]
  },
  {
   "cell_type": "code",
   "execution_count": null,
   "metadata": {},
   "outputs": [],
   "source": []
  },
  {
   "cell_type": "markdown",
   "metadata": {},
   "source": [
    "## Task 14. Image Arithmetic "
   ]
  },
  {
   "cell_type": "code",
   "execution_count": 16,
   "metadata": {},
   "outputs": [],
   "source": [
    "img = cv2.imread('national park.jpg')\n",
    "\n",
    "matrix = np.ones(img.shape , dtype = 'uint8') * 100\n",
    "add = cv2.add(img , matrix)\n",
    "sub = cv2.subtract(img , matrix)\n",
    "mul = cv2.multiply(img , matrix)\n",
    "\n",
    "cv2.imshow('IMAGE',img)\n",
    "cv2.waitKey(0)\n",
    "cv2.imshow('ADDED IMAGE',add)\n",
    "cv2.waitKey(0)\n",
    "cv2.imshow('SUBTRACTED IMAGE',sub)\n",
    "cv2.waitKey(0)\n",
    "cv2.imshow('MULTIPLY IMAGE',mul)\n",
    "cv2.waitKey(0)\n",
    "\n",
    "cv2.destroyAllWindows()"
   ]
  },
  {
   "cell_type": "code",
   "execution_count": null,
   "metadata": {},
   "outputs": [],
   "source": []
  },
  {
   "cell_type": "markdown",
   "metadata": {},
   "source": [
    "## Task 15. Image Bitwise Operations "
   ]
  },
  {
   "cell_type": "code",
   "execution_count": 17,
   "metadata": {},
   "outputs": [],
   "source": [
    "squ = np.zeros((300,300) , np.uint8)\n",
    "elip = np.zeros((300,300) , np.uint8)\n",
    "\n",
    "cv2.rectangle(squ , (50,50) , (250,250) , 255 , -1)\n",
    "cv2.ellipse(elip , (150,150) , (150,150) , 30 , 0 , 180 ,255 , -1)\n",
    "\n",
    "cv2.imshow('SQUARE',squ)\n",
    "cv2.waitKey(0)\n",
    "cv2.imshow('ELLIPSE',elip)\n",
    "cv2.waitKey(0)\n",
    "\n",
    "And = cv2.bitwise_and(squ , elip) \n",
    "cv2.imshow('BITWISE-AND',And)\n",
    "cv2.waitKey(0)\n",
    "\n",
    "Or = cv2.bitwise_or(squ , elip) \n",
    "cv2.imshow('BITWISE-OR',Or)\n",
    "cv2.waitKey(0)\n",
    "\n",
    "Xor = cv2.bitwise_xor(squ , elip) \n",
    "cv2.imshow('BITWISE-XOR',Xor)\n",
    "cv2.waitKey(0)\n",
    "\n",
    "Not = cv2.bitwise_not(squ , elip) \n",
    "cv2.imshow('BITWISE-NOT',Not)\n",
    "cv2.waitKey(0)\n",
    "\n",
    "cv2.destroyAllWindows()"
   ]
  },
  {
   "cell_type": "code",
   "execution_count": null,
   "metadata": {},
   "outputs": [],
   "source": [
    "\n"
   ]
  },
  {
   "cell_type": "markdown",
   "metadata": {},
   "source": [
    "## Task 16. Image Blurring "
   ]
  },
  {
   "cell_type": "code",
   "execution_count": 18,
   "metadata": {},
   "outputs": [],
   "source": [
    "img = cv2.imread('national park.jpg')\n",
    "k_3x3 = np.ones((3,3) , np.float32) / 9\n",
    "k_7x7 = np.ones((7,7) , np.float32) / 49\n",
    "\n",
    "blur1 = cv2.filter2D(img , -1 , k_3x3)\n",
    "blur2 = cv2.filter2D(img , -1 , k_7x7)\n",
    "\n",
    "cv2.imshow('IMAGE',img)\n",
    "cv2.waitKey(0)\n",
    "cv2.imshow('BLURRED1 IMAGE',blur1)\n",
    "cv2.waitKey(0)\n",
    "cv2.imshow('BLURRED2 IMAGE',blur2)\n",
    "cv2.waitKey(0)\n",
    "\n",
    "cv2.destroyAllWindows()"
   ]
  },
  {
   "cell_type": "code",
   "execution_count": null,
   "metadata": {},
   "outputs": [],
   "source": []
  },
  {
   "cell_type": "markdown",
   "metadata": {},
   "source": [
    "## Task 17. Image Smoothing "
   ]
  },
  {
   "cell_type": "code",
   "execution_count": 19,
   "metadata": {},
   "outputs": [],
   "source": [
    "img = cv2.imread('national park.jpg')\n",
    "\n",
    "smth = cv2.blur(img , (3,3))\n",
    "gau = cv2.GaussianBlur(img , (7,7) , 0)\n",
    "med = cv2.medianBlur(img , 5)\n",
    "bilat = cv2.bilateralFilter(img , 9 , 75 , 75)\n",
    "\n",
    "cv2.imshow('BLUR-SMOOTH IMAGE',smth)\n",
    "cv2.waitKey(0)\n",
    "cv2.imshow('GAUSS-SMOOTH IMAGE',gau)\n",
    "cv2.waitKey(0)\n",
    "cv2.imshow('MEDIAN-SMOOTH IMAGE',med)\n",
    "cv2.waitKey(0)\n",
    "cv2.imshow('BILATERAL-SMOOTH IMAGE',bilat)\n",
    "cv2.waitKey(0)\n",
    "\n",
    "cv2.destroyAllWindows()"
   ]
  },
  {
   "cell_type": "code",
   "execution_count": null,
   "metadata": {},
   "outputs": [],
   "source": []
  },
  {
   "cell_type": "markdown",
   "metadata": {},
   "source": [
    "## Task 18. Image Edge Detection "
   ]
  },
  {
   "cell_type": "code",
   "execution_count": 20,
   "metadata": {},
   "outputs": [],
   "source": [
    "img = cv2.imread('national park.jpg',0)\n",
    "H,W = img.shape\n",
    "\n",
    "x = cv2.Sobel(img , cv2.CV_64F , 1, 0, ksize = 5)\n",
    "y = cv2.Sobel(img , cv2.CV_64F , 0, 1, ksize = 5)\n",
    "Or = cv2.bitwise_or(x , y)\n",
    "lap = cv2.Laplacian(img , cv2.CV_64F)\n",
    "cann = cv2.Canny(img , 20 , 200)\n",
    "\n",
    "cv2.imshow('GRAY-SCALE IMAGE',img)\n",
    "cv2.waitKey(0)\n",
    "cv2.imshow('SOBEL X IMAGE',x)\n",
    "cv2.waitKey(0)\n",
    "cv2.imshow('SOBEL Y IMAGE',y)\n",
    "cv2.waitKey(0)\n",
    "#cv2.imshow('SOBEL OR IMAGE',Or)\n",
    "#cv2.waitKey(0)\n",
    "cv2.imshow('LAPLACTIAN  IMAGE',lap)\n",
    "cv2.waitKey(0)\n",
    "cv2.imshow('CANNY IMAGE',cann)\n",
    "cv2.waitKey(0)\n",
    "\n",
    "cv2.destroyAllWindows()"
   ]
  },
  {
   "cell_type": "code",
   "execution_count": null,
   "metadata": {},
   "outputs": [],
   "source": []
  },
  {
   "cell_type": "markdown",
   "metadata": {},
   "source": [
    "## Task 19. Web-Cam Initializing"
   ]
  },
  {
   "cell_type": "code",
   "execution_count": 21,
   "metadata": {},
   "outputs": [],
   "source": [
    "cam = cv2.VideoCapture(0)\n",
    "\n",
    "while True :\n",
    "    ret , frame = cam.read()\n",
    "    cv2.imshow('LIVE - SKETCH', frame)\n",
    "    if cv2.waitKey(1)==13:\n",
    "        break\n",
    "    \n",
    "cam.release()\n",
    "\n",
    "cv2.destroyAllWindows()    "
   ]
  },
  {
   "cell_type": "code",
   "execution_count": null,
   "metadata": {},
   "outputs": [],
   "source": []
  },
  {
   "cell_type": "markdown",
   "metadata": {},
   "source": [
    "## Task 20. Image Capturing ( WEB-CAM )"
   ]
  },
  {
   "cell_type": "code",
   "execution_count": 22,
   "metadata": {},
   "outputs": [],
   "source": [
    "import matplotlib.pyplot as plt"
   ]
  },
  {
   "cell_type": "code",
   "execution_count": 23,
   "metadata": {},
   "outputs": [
    {
     "name": "stdout",
     "output_type": "stream",
     "text": [
      "True\n",
      "[[[255 255 255]\n",
      "  [255 255 255]\n",
      "  [255 255 255]\n",
      "  ...\n",
      "  [  3   3   3]\n",
      "  [  3   3   3]\n",
      "  [  3   3   3]]\n",
      "\n",
      " [[255 255 255]\n",
      "  [255 255 255]\n",
      "  [255 255 255]\n",
      "  ...\n",
      "  [  3   3   3]\n",
      "  [  3   3   3]\n",
      "  [  3   3   3]]\n",
      "\n",
      " [[255 255 255]\n",
      "  [255 255 255]\n",
      "  [255 255 255]\n",
      "  ...\n",
      "  [  3   3   3]\n",
      "  [  3   3   3]\n",
      "  [  3   3   3]]\n",
      "\n",
      " ...\n",
      "\n",
      " [[  3   3   3]\n",
      "  [  3   3   3]\n",
      "  [  5   5   5]\n",
      "  ...\n",
      "  [  1   1   3]\n",
      "  [  1   1   3]\n",
      "  [  1   1   3]]\n",
      "\n",
      " [[  3   3   3]\n",
      "  [  3   3   3]\n",
      "  [  3   3   3]\n",
      "  ...\n",
      "  [  1   1   3]\n",
      "  [  3   1  11]\n",
      "  [  3   1  11]]\n",
      "\n",
      " [[  3   3   3]\n",
      "  [  3   3   3]\n",
      "  [  3   3   3]\n",
      "  ...\n",
      "  [  1   1   3]\n",
      "  [  3   1  11]\n",
      "  [  3   1  11]]]\n"
     ]
    },
    {
     "data": {
      "image/png": "[encoded data removed]",
      "text/plain": [
       "<Figure size 432x288 with 1 Axes>"
      ]
     },
     "metadata": {},
     "output_type": "display_data"
    }
   ],
   "source": [
    "cam = cv2.VideoCapture(0)\n",
    "\n",
    "if cam.isOpened() :\n",
    "    ret , frame = cam.read()\n",
    "    print(ret)\n",
    "    print(frame)\n",
    "else : \n",
    "    ret = False\n",
    "\n",
    "img1 = cv2.cvtColor(frame , cv2.COLOR_BGR2RGB)\n",
    "\n",
    "plt.imshow(img1)\n",
    "plt.title('IMAGE CAPTURED',fontsize = 15)\n",
    "plt.xticks([])\n",
    "plt.yticks([])\n",
    "plt.show()\n",
    "\n",
    "cam.release()\n",
    "\n",
    "cv2.destroyAllWindows()"
   ]
  },
  {
   "cell_type": "code",
   "execution_count": null,
   "metadata": {},
   "outputs": [],
   "source": []
  },
  {
   "cell_type": "markdown",
   "metadata": {},
   "source": [
    "## Task 21. Video Edge Dectection  "
   ]
  },
  {
   "cell_type": "code",
   "execution_count": 24,
   "metadata": {},
   "outputs": [],
   "source": [
    "cam = cv2.VideoCapture(0)\n",
    "\n",
    "def sketch(image) :\n",
    "    img1 = cv2.cvtColor(image , cv2.COLOR_BGR2GRAY)\n",
    "    blur = cv2.GaussianBlur(img1, (5,5), 0)\n",
    "    canny = cv2.Canny(blur , 10 , 70)\n",
    "    ret , mask = cv2.threshold(canny , 70, 255, cv2.THRESH_BINARY)\n",
    "    \n",
    "    return mask\n",
    "\n",
    "\n",
    "while True :\n",
    "    ret , frame = cam.read()\n",
    "    cv2.imshow('LIVE SKETCH EDGE DECTECTION',sketch(frame))\n",
    "    if cv2.waitKey(1)==13:\n",
    "        break\n",
    "    \n",
    "cam.release()\n",
    "\n",
    "cv2.destroyAllWindows() "
   ]
  },
  {
   "cell_type": "code",
   "execution_count": null,
   "metadata": {},
   "outputs": [],
   "source": []
  },
  {
   "cell_type": "markdown",
   "metadata": {},
   "source": [
    "## Task 22. Video Color Filtering"
   ]
  },
  {
   "cell_type": "code",
   "execution_count": 25,
   "metadata": {},
   "outputs": [],
   "source": [
    "cam = cv2.VideoCapture(0)\n",
    "\n",
    "while True :\n",
    "    ret , frame = cam.read()\n",
    "    hsv = cv2.cvtColor(frame , cv2.COLOR_BGR2HSV)\n",
    "    \n",
    "    low = np.array([110,50,50])\n",
    "    high = np.array([130,255,255])\n",
    "    mask = cv2.inRange(hsv , low , high)\n",
    "    \n",
    "    cv2.imshow('VIDEO FILTERING',mask)\n",
    "    if cv2.waitKey(1)==13:\n",
    "        break\n",
    "    \n",
    "cam.release()\n",
    "\n",
    "cv2.destroyAllWindows() "
   ]
  },
  {
   "cell_type": "code",
   "execution_count": null,
   "metadata": {},
   "outputs": [],
   "source": []
  },
  {
   "cell_type": "markdown",
   "metadata": {},
   "source": [
    "## Task 23. Color Filtering with Bitwise "
   ]
  },
  {
   "cell_type": "code",
   "execution_count": 26,
   "metadata": {},
   "outputs": [],
   "source": [
    "cam = cv2.VideoCapture(0)\n",
    "\n",
    "while True :\n",
    "    ret , frame = cam.read()\n",
    "    hsv = cv2.cvtColor(frame , cv2.COLOR_BGR2HSV)\n",
    "    \n",
    "    low = np.array([110,50,50])\n",
    "    high = np.array([130,255,255])\n",
    "    mask = cv2.inRange(hsv , low , high)\n",
    "    \n",
    "    result = cv2.bitwise_and(frame , frame , mask = mask)\n",
    "    cv2.imshow('LIVE - SKETCH', result)\n",
    "    \n",
    "    if cv2.waitKey(1)==13:\n",
    "        break\n",
    "    \n",
    "cam.release()\n",
    "\n",
    "cv2.destroyAllWindows()"
   ]
  },
  {
   "cell_type": "code",
   "execution_count": null,
   "metadata": {},
   "outputs": [],
   "source": [
    "\n"
   ]
  },
  {
   "cell_type": "markdown",
   "metadata": {},
   "source": [
    "## Task 24. Color Trackbar "
   ]
  },
  {
   "cell_type": "code",
   "execution_count": 27,
   "metadata": {},
   "outputs": [],
   "source": [
    "def null(x) :\n",
    "    pass\n",
    "\n",
    "imgg = np.zeros((300,512,3) , np.uint8)\n",
    "cv2.namedWindow('IMAGE')\n",
    "\n",
    "cv2.createTrackbar('RED' , 'IMAGE' , 0 , 255 , null)\n",
    "cv2.createTrackbar('GREEN' , 'IMAGE' , 0 , 255 , null)\n",
    "cv2.createTrackbar('BLUE' , 'IMAGE' , 0 , 255 , null)\n",
    "\n",
    "switch = '0 : OFF \\n 1 : ON'\n",
    "cv2.createTrackbar(switch , 'IMAGE' , 0 , 1 , null)\n",
    "\n",
    "while True :\n",
    "    cv2.imshow('IMAGE',imgg)  \n",
    "    if cv2.waitKey(1)==13:\n",
    "         break\n",
    "    \n",
    "    r = cv2.getTrackbarPos('RED' , 'IMAGE')\n",
    "    g = cv2.getTrackbarPos('GREEN' , 'IMAGE')\n",
    "    b = cv2.getTrackbarPos('BLUE' , 'IMAGE')\n",
    "    s = cv2.getTrackbarPos(switch , 'IMAGE')\n",
    "    \n",
    "    if s==0 :\n",
    "        imgg[:] = 0\n",
    "    else :\n",
    "        imgg[:] = [b,g,r]\n",
    "    \n",
    "\n",
    "cv2.destroyAllWindows()"
   ]
  },
  {
   "cell_type": "code",
   "execution_count": null,
   "metadata": {},
   "outputs": [],
   "source": []
  },
  {
   "cell_type": "markdown",
   "metadata": {},
   "source": [
    "## Task 25. Mouse CallBack Event "
   ]
  },
  {
   "cell_type": "code",
   "execution_count": 28,
   "metadata": {},
   "outputs": [],
   "source": [
    "window = 'DRAWING'\n",
    "\n",
    "imggg = np.zeros((512,512,3) , np.uint8)\n",
    "cv2.namedWindow(window)\n",
    "\n",
    "def circle(event , x , y , flag , arg) :\n",
    "    if event == cv2.EVENT_LBUTTONDBLCLK :\n",
    "        cv2.circle(imggg , (x,y) , 40 , (0,255,0) , -1)\n",
    "    if event == cv2.EVENT_RBUTTONDBLCLK :\n",
    "        cv2.circle(imggg , (x,y) , 20 , (0,0,255) , -1)\n",
    "    if event == cv2.EVENT_LBUTTONDOWN :\n",
    "        cv2.circle(imggg , (x,y) , 30 , (255,0,0) , -1)\n",
    "\n",
    "cv2.setMouseCallback(window , circle)\n",
    "\n",
    "while True : \n",
    "    cv2.imshow(window , imggg)\n",
    "    if cv2.waitKey(1)==13:\n",
    "         break\n",
    "\n",
    "cv2.destroyAllWindows()"
   ]
  },
  {
   "cell_type": "code",
   "execution_count": null,
   "metadata": {},
   "outputs": [],
   "source": []
  },
  {
   "cell_type": "code",
   "execution_count": null,
   "metadata": {},
   "outputs": [],
   "source": [
    "\n",
    "\n",
    "\n",
    "\n",
    "\n",
    "\n"
   ]
  }
 ],
 "metadata": {
  "kernelspec": {
   "display_name": "Python 3",
   "language": "python",
   "name": "python3"
  },
  "language_info": {
   "codemirror_mode": {
    "name": "ipython",
    "version": 3
   },
   "file_extension": ".py",
   "mimetype": "text/x-python",
   "name": "python",
   "nbconvert_exporter": "python",
   "pygments_lexer": "ipython3",
   "version": "3.7.4"
  }
 },
 "nbformat": 4,
 "nbformat_minor": 2
}
