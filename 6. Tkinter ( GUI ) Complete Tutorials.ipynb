{
 "cells": [
  {
   "cell_type": "markdown",
   "metadata": {},
   "source": [
    "# <center> Tkinter ( GUI ) Complete Tutorials"
   ]
  },
  {
   "cell_type": "markdown",
   "metadata": {},
   "source": [
    "## Task 1. Import Library "
   ]
  },
  {
   "cell_type": "code",
   "execution_count": 2,
   "metadata": {},
   "outputs": [],
   "source": [
    "from tkinter import *"
   ]
  },
  {
   "cell_type": "code",
   "execution_count": null,
   "metadata": {},
   "outputs": [],
   "source": []
  },
  {
   "cell_type": "markdown",
   "metadata": {},
   "source": [
    "## Task 2. Screen Initialization"
   ]
  },
  {
   "cell_type": "code",
   "execution_count": 2,
   "metadata": {},
   "outputs": [],
   "source": [
    "root = Tk()\n",
    "\n",
    "root.title('GUI-FRAME')\n",
    "root.geometry('400x300')\n",
    "root.configure(bg = 'yellow')\n",
    "\n",
    "root.mainloop()"
   ]
  },
  {
   "cell_type": "code",
   "execution_count": null,
   "metadata": {},
   "outputs": [],
   "source": []
  },
  {
   "cell_type": "markdown",
   "metadata": {},
   "source": [
    "## Task 3. Button Widget in Detail"
   ]
  },
  {
   "cell_type": "code",
   "execution_count": 3,
   "metadata": {},
   "outputs": [],
   "source": [
    "root = Tk()\n",
    "\n",
    "root.title('GUI-FRAME')\n",
    "root.geometry('400x300')\n",
    "root.configure(bg = 'yellow')\n",
    "\n",
    "butn = Button(root , text = 'Click', bg = 'red' , fg = 'white', font = ('arial',20,'bold'), \n",
    "             activebackground = 'green', activeforeground = 'black',bd = 10, relief = RIDGE,width = 8,height = '1',\n",
    "             cursor = 'watch', anchor = CENTER)\n",
    "butn.pack()\n",
    "\n",
    "root.mainloop()"
   ]
  },
  {
   "cell_type": "code",
   "execution_count": null,
   "metadata": {},
   "outputs": [],
   "source": []
  },
  {
   "cell_type": "markdown",
   "metadata": {},
   "source": [
    "## Task 4. Label Widget in Detail"
   ]
  },
  {
   "cell_type": "code",
   "execution_count": 4,
   "metadata": {},
   "outputs": [],
   "source": [
    "root = Tk()\n",
    "\n",
    "root.title('GUI-FRAME')\n",
    "root.geometry('400x300')\n",
    "root.configure(bg = 'yellow')\n",
    "\n",
    "lab = Label(root ,text = 'Welcome Everyone' , width = 20, height = 2, anchor = CENTER,\n",
    "           bg = 'red',fg = 'white', font = ('arial',15,'italic bold'), cursor = 'watch', relief = SOLID , bd = 2)\n",
    "lab.pack()\n",
    "\n",
    "\n",
    "root.mainloop()"
   ]
  },
  {
   "cell_type": "code",
   "execution_count": null,
   "metadata": {},
   "outputs": [],
   "source": []
  },
  {
   "cell_type": "markdown",
   "metadata": {},
   "source": [
    "## Task 5. Images on Label & Button Widget"
   ]
  },
  {
   "cell_type": "markdown",
   "metadata": {},
   "source": [
    "### 1) Image on Button"
   ]
  },
  {
   "cell_type": "code",
   "execution_count": 5,
   "metadata": {},
   "outputs": [],
   "source": [
    "root = Tk()\n",
    "\n",
    "root.title('GUI-FRAME')\n",
    "root.geometry('400x300')\n",
    "root.configure(bg = 'yellow')\n",
    "\n",
    "img = PhotoImage(file = 'Pie_pic.png')\n",
    "\n",
    "\n",
    "butn = Button(root , text = 'Click', bg = 'red' , fg = 'white', font = ('arial',20,'bold'), \n",
    "             activebackground = 'green', activeforeground = 'black',bd = 10, relief = RIDGE,width = 8,height = '1',\n",
    "             cursor = 'watch', anchor = CENTER, image = img)\n",
    "butn.pack()\n",
    "\n",
    "root.mainloop()"
   ]
  },
  {
   "cell_type": "markdown",
   "metadata": {},
   "source": [
    "### 2) Image on Label"
   ]
  },
  {
   "cell_type": "code",
   "execution_count": 6,
   "metadata": {},
   "outputs": [],
   "source": [
    "root = Tk()\n",
    "\n",
    "root.title('GUI-FRAME')\n",
    "root.geometry('400x300')\n",
    "root.configure(bg = 'yellow')\n",
    "\n",
    "img = PhotoImage(file = 'Pie_pic.png')\n",
    "lab = Label(root ,text = 'Welcome Everyone' , width = 20, height = 2, anchor = CENTER,\n",
    "           bg = 'red',fg = 'white', font = ('arial',15,'italic bold'), cursor = 'watch', relief = SOLID , bd = 2, image = img)\n",
    "lab.pack()\n",
    "\n",
    "\n",
    "root.mainloop()"
   ]
  },
  {
   "cell_type": "code",
   "execution_count": null,
   "metadata": {},
   "outputs": [],
   "source": []
  },
  {
   "cell_type": "markdown",
   "metadata": {},
   "source": [
    "## Task 6. Entry-Box Widget in Detail"
   ]
  },
  {
   "cell_type": "code",
   "execution_count": 10,
   "metadata": {},
   "outputs": [],
   "source": [
    "root = Tk()\n",
    "\n",
    "root.title('GUI-FRAME')\n",
    "root.geometry('400x300')\n",
    "root.configure(bg = 'yellow')\n",
    "\n",
    "eb = Entry(root, bg = 'white', fg = 'red', bd = 6, font = ('arial', 12, 'bold'),\n",
    "          insertbackground = 'green', insertwidth = 3 , justify = 'center', relief = SOLID, selectbackground = 'green',\n",
    "          selectforeground = 'white', show = '*', state = 'normal')\n",
    "\n",
    "eb.pack()\n",
    "eb.focus_set()\n",
    "\n",
    "root.mainloop()"
   ]
  },
  {
   "cell_type": "code",
   "execution_count": null,
   "metadata": {},
   "outputs": [],
   "source": []
  },
  {
   "cell_type": "markdown",
   "metadata": {},
   "source": [
    "## Task 7. Grid Method in Detail"
   ]
  },
  {
   "cell_type": "code",
   "execution_count": 3,
   "metadata": {},
   "outputs": [],
   "source": [
    "root = Tk()\n",
    "\n",
    "root.title('GUI-FRAME')\n",
    "root.configure(bg = 'skyblue')\n",
    "\n",
    "butn1 = Button(root , text = 'Click', bg = 'red' , fg = 'white', font = ('arial',20,'bold'), \n",
    "             activebackground = 'green', activeforeground = 'black',bd = 10, relief = RIDGE,width = 8,height = 1,\n",
    "             cursor = 'watch', anchor = CENTER)\n",
    "butn1.grid(row = 0, column = 0)\n",
    "\n",
    "butn2 = Button(root , text = 'Click', bg = 'red' , fg = 'white', font = ('arial',20,'bold'), \n",
    "             activebackground = 'green', activeforeground = 'black',bd = 10, relief = RIDGE,width = 8,height = 1,\n",
    "             cursor = 'watch', anchor = CENTER)\n",
    "butn2.grid(row = 0, column = 1)\n",
    "\n",
    "butn3 = Button(root , text = 'Click', bg = 'red' , fg = 'white', font = ('arial',20,'bold'), \n",
    "             activebackground = 'green', activeforeground = 'black',bd = 10, relief = RIDGE,width = 8,height = 1,\n",
    "             cursor = 'watch', anchor = CENTER)\n",
    "butn3.grid(row = 0, column = 2)\n",
    "\n",
    "butn4 = Button(root , text = 'Click', bg = 'red' , fg = 'white', font = ('arial',20,'bold'), \n",
    "             activebackground = 'green', activeforeground = 'black',bd = 10, relief = RIDGE,width = 8,height = 1,\n",
    "             cursor = 'watch', anchor = CENTER)\n",
    "butn4.grid(row = 0, column = 3)\n",
    "\n",
    "butn5 = Button(root , text = 'Click', bg = 'red' , fg = 'white', font = ('arial',20,'bold'), \n",
    "             activebackground = 'green', activeforeground = 'black',bd = 10, relief = RIDGE,width = 18,height = '1',\n",
    "             cursor = 'watch', anchor = CENTER)\n",
    "butn5.grid(row = 1, column = 2,columnspan = 2, ipady = 5)\n",
    "\n",
    "butn6 = Button(root , text = 'Click', bg = 'red' , fg = 'white', font = ('arial',20,'bold'), \n",
    "             activebackground = 'green', activeforeground = 'black',bd = 10, relief = RIDGE,width = 18,height = '1',\n",
    "             cursor = 'watch', anchor = CENTER)\n",
    "butn6.grid(row = 2, column = 2,columnspan = 2, ipady = 5)\n",
    "\n",
    "butn7 = Button(root , text = 'Click', bg = 'red' , fg = 'white', font = ('arial',20,'bold'), \n",
    "             activebackground = 'green', activeforeground = 'black',bd = 10, relief = RIDGE,width = 8,height = 4,\n",
    "             cursor = 'watch', anchor = CENTER)\n",
    "butn7.grid(row = 1, column = 0,rowspan = 2)\n",
    "\n",
    "butn8 = Button(root , text = 'Click', bg = 'red' , fg = 'white', font = ('arial',20,'bold'), \n",
    "             activebackground = 'green', activeforeground = 'black',bd = 10, relief = RIDGE,width = 8,height = 4,\n",
    "             cursor = 'watch', anchor = CENTER)\n",
    "butn8.grid(row = 1, column = 1,rowspan = 2)\n",
    "\n",
    "\n",
    "\n",
    "root.mainloop()"
   ]
  },
  {
   "cell_type": "code",
   "execution_count": null,
   "metadata": {},
   "outputs": [],
   "source": []
  },
  {
   "cell_type": "code",
   "execution_count": null,
   "metadata": {},
   "outputs": [],
   "source": []
  },
  {
   "cell_type": "code",
   "execution_count": null,
   "metadata": {},
   "outputs": [],
   "source": []
  },
  {
   "cell_type": "code",
   "execution_count": null,
   "metadata": {},
   "outputs": [],
   "source": []
  },
  {
   "cell_type": "code",
   "execution_count": null,
   "metadata": {},
   "outputs": [],
   "source": []
  }
 ],
 "metadata": {
  "kernelspec": {
   "display_name": "Python 3",
   "language": "python",
   "name": "python3"
  },
  "language_info": {
   "codemirror_mode": {
    "name": "ipython",
    "version": 3
   },
   "file_extension": ".py",
   "mimetype": "text/x-python",
   "name": "python",
   "nbconvert_exporter": "python",
   "pygments_lexer": "ipython3",
   "version": "3.7.4"
  }
 },
 "nbformat": 4,
 "nbformat_minor": 2
}
