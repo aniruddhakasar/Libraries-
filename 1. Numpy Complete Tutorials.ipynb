{
 "cells": [
  {
   "cell_type": "markdown",
   "metadata": {},
   "source": [
    "# Numpy Complete Tutorials"
   ]
  },
  {
   "cell_type": "code",
   "execution_count": null,
   "metadata": {},
   "outputs": [],
   "source": []
  },
  {
   "cell_type": "markdown",
   "metadata": {},
   "source": [
    "# >> Importing\n"
   ]
  },
  {
   "cell_type": "code",
   "execution_count": 2,
   "metadata": {},
   "outputs": [],
   "source": [
    "import numpy as np"
   ]
  },
  {
   "cell_type": "code",
   "execution_count": null,
   "metadata": {},
   "outputs": [],
   "source": []
  },
  {
   "cell_type": "markdown",
   "metadata": {},
   "source": [
    "# >> Array() from Numpy "
   ]
  },
  {
   "cell_type": "code",
   "execution_count": 2,
   "metadata": {},
   "outputs": [
    {
     "name": "stdout",
     "output_type": "stream",
     "text": [
      "[1 2 3 4 5]\n",
      "[[1 3]\n",
      " [2 4]]\n"
     ]
    }
   ],
   "source": [
    "a = np.array([1,2,3,4,5])           # 1D ARRAY \n",
    "b = np.array([[1,3],[2,4]])         # 2D ARRAY \n",
    "print(a)\n",
    "print(b)"
   ]
  },
  {
   "cell_type": "code",
   "execution_count": null,
   "metadata": {},
   "outputs": [],
   "source": []
  },
  {
   "cell_type": "markdown",
   "metadata": {},
   "source": [
    "# >> Arange() from Numpy"
   ]
  },
  {
   "cell_type": "code",
   "execution_count": 4,
   "metadata": {},
   "outputs": [
    {
     "name": "stdout",
     "output_type": "stream",
     "text": [
      "[ 0  1  2  3  4  5  6  7  8  9 10 11]\n",
      "[1 3 5 7 9]\n"
     ]
    }
   ],
   "source": [
    "a = np.arange(0,12)               # ARRAY WITH START AND END\n",
    "b = np.arange(1,10,2)             # ARRAY WITH START,END,INTERVAL  \n",
    "print(a)\n",
    "print(b)"
   ]
  },
  {
   "cell_type": "code",
   "execution_count": null,
   "metadata": {},
   "outputs": [],
   "source": []
  },
  {
   "cell_type": "markdown",
   "metadata": {},
   "source": [
    "# >> Zeros() from Numpy"
   ]
  },
  {
   "cell_type": "code",
   "execution_count": 12,
   "metadata": {},
   "outputs": [
    {
     "name": "stdout",
     "output_type": "stream",
     "text": [
      "[0. 0. 0.]\n",
      "[[0. 0. 0.]\n",
      " [0. 0. 0.]\n",
      " [0. 0. 0.]]\n",
      "[0 0 0 0 0]\n"
     ]
    }
   ],
   "source": [
    "a = np.zeros(3)                # ARRAY WITH 3 ZEROS \n",
    "b = np.zeros((3,3))            # ARRAY WITH COL AND ROW \n",
    "c = np.zeros(5,\"int\")          # ARRAY WITH DataType=int \n",
    "print(a)\n",
    "print(b)\n",
    "print(c)"
   ]
  },
  {
   "cell_type": "code",
   "execution_count": null,
   "metadata": {},
   "outputs": [],
   "source": []
  },
  {
   "cell_type": "markdown",
   "metadata": {},
   "source": [
    "# >> Ones() from Numpy  "
   ]
  },
  {
   "cell_type": "code",
   "execution_count": 15,
   "metadata": {},
   "outputs": [
    {
     "name": "stdout",
     "output_type": "stream",
     "text": [
      "[1. 1. 1. 1.]\n",
      "[[1 1 1]\n",
      " [1 1 1]]\n"
     ]
    }
   ],
   "source": [
    "A = np.ones(4)                    # ARRAY WITH 4 ONES \n",
    "B = np.ones((2,3),\"int\")          # ARRAY WITH COL AND ROW, datatype=int\n",
    "print(A)\n",
    "print(B)"
   ]
  },
  {
   "cell_type": "code",
   "execution_count": null,
   "metadata": {},
   "outputs": [],
   "source": []
  },
  {
   "cell_type": "markdown",
   "metadata": {},
   "source": [
    "# >> Linspace() from Numpy"
   ]
  },
  {
   "cell_type": "code",
   "execution_count": 23,
   "metadata": {},
   "outputs": [
    {
     "name": "stdout",
     "output_type": "stream",
     "text": [
      "[ 1.   4.5  8.  11.5 15.  18.5 22.  25.5 29.  32.5 36.  39.5 43.  46.5\n",
      " 50. ]\n",
      "(array([ 2.        , 10.66666667, 19.33333333, 28.        , 36.66666667,\n",
      "       45.33333333, 54.        , 62.66666667, 71.33333333, 80.        ]), 8.666666666666666)\n",
      "[ 1.          4.26666667  7.53333333 10.8        14.06666667 17.33333333\n",
      " 20.6        23.86666667 27.13333333 30.4        33.66666667 36.93333333\n",
      " 40.2        43.46666667 46.73333333]\n"
     ]
    }
   ],
   "source": [
    "a = np.linspace(1,50,num=15)                     # ARRAY FROM 1 TO 50 INCLUDING 15 ELEMENTS\n",
    "b = np.linspace(2,80,num=10,retstep=True)        # ARRAY FROM 2 TO 80 WITH SAME INTERVAL\n",
    "c =  np.linspace(1,50,num=15,endpoint=False)     # ARRAY FROM 1 TO 50 WITHOUT 50 \n",
    "print(a)\n",
    "print(b)\n",
    "print(c)"
   ]
  },
  {
   "cell_type": "code",
   "execution_count": null,
   "metadata": {},
   "outputs": [],
   "source": []
  },
  {
   "cell_type": "markdown",
   "metadata": {},
   "source": [
    "# >> Eye() from Numpy"
   ]
  },
  {
   "cell_type": "code",
   "execution_count": 28,
   "metadata": {},
   "outputs": [
    {
     "name": "stdout",
     "output_type": "stream",
     "text": [
      "[[1. 0. 0. 0.]\n",
      " [0. 1. 0. 0.]\n",
      " [0. 0. 1. 0.]\n",
      " [0. 0. 0. 1.]]\n",
      "[[0. 1. 0.]\n",
      " [0. 0. 1.]\n",
      " [0. 0. 0.]]\n"
     ]
    }
   ],
   "source": [
    "a = np.eye(4,4)                # ARRAY WITH COL AND ROW WITH 1 IN DIAGONAL \n",
    "b = np.eye(3,k=1)              # ARRAY WITH 1 IN UPPER DIAGONAL \n",
    "print(a)\n",
    "print(b)"
   ]
  },
  {
   "cell_type": "code",
   "execution_count": null,
   "metadata": {},
   "outputs": [],
   "source": []
  },
  {
   "cell_type": "markdown",
   "metadata": {},
   "source": [
    "# >>  Random() from Numpy "
   ]
  },
  {
   "cell_type": "code",
   "execution_count": 37,
   "metadata": {},
   "outputs": [
    {
     "name": "stdout",
     "output_type": "stream",
     "text": [
      "[0.99509206 0.178808   0.50343607]\n",
      "[[0.57994741 0.24567349 0.39012327]\n",
      " [0.44264597 0.80506067 0.3371286 ]\n",
      " [0.72015609 0.75838577 0.79060314]\n",
      " [0.02548578 0.30144204 0.23525605]]\n",
      "[ 0.10441087  0.19601233  0.22873621 -0.56783379]\n",
      "[4 4 0 2 5]\n"
     ]
    }
   ],
   "source": [
    "a = np.random.rand(3)                  # RAND() IN RANDOM MODULE GENERATES RANDOM VALUES\n",
    "b = np.random.rand(4,3)                # RAND() WITH ROW AND COL GENERATES RANDOM VALUES \n",
    "c = np.random.randn(4)                 # RANDN() GENERATES RANDOM VALUES INCLUDING -ve \n",
    "d = np.random.randint(6,size=5)        # RANDINT() GENERATES RANDOM VALUES WITHIN LOW VALUE \n",
    "print(a)\n",
    "print(b)\n",
    "print(c)\n",
    "print(d)"
   ]
  },
  {
   "cell_type": "code",
   "execution_count": null,
   "metadata": {},
   "outputs": [],
   "source": []
  },
  {
   "cell_type": "markdown",
   "metadata": {},
   "source": [
    "# >> ndim Attribute of Array \n",
    "        "
   ]
  },
  {
   "cell_type": "code",
   "execution_count": 40,
   "metadata": {},
   "outputs": [
    {
     "name": "stdout",
     "output_type": "stream",
     "text": [
      "1\n",
      "2\n"
     ]
    }
   ],
   "source": [
    "a = np.array([1,2,3,4])                    # 1D ARRAY \n",
    "b = np.array([[2,4,6],[1,3,5]])            # 2D ARRAY \n",
    "print(a.ndim)\n",
    "print(b.ndim)"
   ]
  },
  {
   "cell_type": "markdown",
   "metadata": {},
   "source": [
    "# >> Shape Attribute of Array "
   ]
  },
  {
   "cell_type": "code",
   "execution_count": 41,
   "metadata": {},
   "outputs": [
    {
     "name": "stdout",
     "output_type": "stream",
     "text": [
      "(4,)\n",
      "(2, 3)\n"
     ]
    }
   ],
   "source": [
    "a = np.array([1,2,3,4])                    # ELEMENTS IN 1D ARRAY \n",
    "b = np.array([[2,4,6],[1,3,5]])            # ELEMENTS  2D ARRAY \n",
    "print(a.shape)\n",
    "print(b.shape)"
   ]
  },
  {
   "cell_type": "markdown",
   "metadata": {},
   "source": [
    "# >> Size Attribute of Array "
   ]
  },
  {
   "cell_type": "code",
   "execution_count": 42,
   "metadata": {},
   "outputs": [
    {
     "name": "stdout",
     "output_type": "stream",
     "text": [
      "4\n",
      "6\n"
     ]
    }
   ],
   "source": [
    "a = np.array([1,2,3,4])                    # SIZE IN 1D ARRAY BY MULTIPLY \n",
    "b = np.array([[2,4,6],[1,3,5]])            # SIZE IN 2D ARRAY BY MULTIPLY \n",
    "print(a.size)\n",
    "print(b.size)"
   ]
  },
  {
   "cell_type": "markdown",
   "metadata": {},
   "source": [
    "# >> DataType Attribute of Array "
   ]
  },
  {
   "cell_type": "code",
   "execution_count": 43,
   "metadata": {},
   "outputs": [
    {
     "name": "stdout",
     "output_type": "stream",
     "text": [
      "int32\n",
      "int32\n"
     ]
    }
   ],
   "source": [
    "a = np.array([1,2,3,4])                    # Dtype IN 1D ARRAY \n",
    "b = np.array([[2,4,6],[1,3,5]])            # Dtype IN 2D ARRAY \n",
    "print(a.dtype)\n",
    "print(b.dtype)"
   ]
  },
  {
   "cell_type": "markdown",
   "metadata": {},
   "source": [
    "# >> Itemsize Attribute of Array "
   ]
  },
  {
   "cell_type": "code",
   "execution_count": 45,
   "metadata": {},
   "outputs": [
    {
     "name": "stdout",
     "output_type": "stream",
     "text": [
      "4\n",
      "4\n"
     ]
    }
   ],
   "source": [
    "a = np.array([1,2,3,4])                    # SIZE OF EACH ITEM IN 1D ARRAY \n",
    "b = np.array([[2,4,6],[1,3,5]])            # SIZE OF EACH ITEM IN 2D ARRAY \n",
    "print(a.itemsize)\n",
    "print(b.itemsize)"
   ]
  },
  {
   "cell_type": "code",
   "execution_count": null,
   "metadata": {},
   "outputs": [],
   "source": []
  },
  {
   "cell_type": "markdown",
   "metadata": {},
   "source": [
    "# >> Indexing on Array"
   ]
  },
  {
   "cell_type": "code",
   "execution_count": 26,
   "metadata": {
    "scrolled": true
   },
   "outputs": [
    {
     "name": "stdout",
     "output_type": "stream",
     "text": [
      "[1 2 3 4 5 6 7] 4\n",
      "[[1 3 5]\n",
      " [2 4 6]] 3\n"
     ]
    }
   ],
   "source": [
    "a = np.array([1,2,3,4,5,6,7])               # INDEXING ON 1D ARRAY \n",
    "b = np.array([[1,3,5],[2,4,6]])             # INDEXING ON 2D ARRAY \n",
    "print(a,a[3])\n",
    "print(b,b[0][1])\n"
   ]
  },
  {
   "cell_type": "code",
   "execution_count": null,
   "metadata": {},
   "outputs": [],
   "source": []
  },
  {
   "cell_type": "markdown",
   "metadata": {},
   "source": [
    "# >> Slicing on Array "
   ]
  },
  {
   "cell_type": "code",
   "execution_count": 41,
   "metadata": {},
   "outputs": [
    {
     "name": "stdout",
     "output_type": "stream",
     "text": [
      "[1 2 3 4 5 6 7] [4 5 6 7]\n",
      "[[1 3 5]\n",
      " [2 4 6]] [[4 6]]\n"
     ]
    }
   ],
   "source": [
    "a = np.array([1,2,3,4,5,6,7])               # SLICING ON 1D ARRAY \n",
    "b = np.array([[1,3,5],[2,4,6]])             # SLICING ON 2D ARRAY \n",
    "print(a,a[3:])\n",
    "print(b,b[1:,1:])\n"
   ]
  },
  {
   "cell_type": "code",
   "execution_count": null,
   "metadata": {},
   "outputs": [],
   "source": []
  },
  {
   "cell_type": "markdown",
   "metadata": {},
   "source": [
    "# >> Advanced Indexing on Array"
   ]
  },
  {
   "cell_type": "code",
   "execution_count": 30,
   "metadata": {},
   "outputs": [
    {
     "name": "stdout",
     "output_type": "stream",
     "text": [
      "[10 20 30]\n",
      "[-1 -4]\n"
     ]
    }
   ],
   "source": [
    "a = np.array([10,20,30,40,50])\n",
    "index = np.array([0,1,2])\n",
    "print(a[index])                              # INTEGER INDEXING ON 1D ARRAY \n",
    "b = np.array([[-1,3,5],[2,-4,6]])\n",
    "print(b[b<0])                                # BOOLEAN INDEXING ON 2D ARRAY \n",
    "\n",
    "\n"
   ]
  },
  {
   "cell_type": "code",
   "execution_count": null,
   "metadata": {},
   "outputs": [],
   "source": []
  },
  {
   "cell_type": "markdown",
   "metadata": {},
   "source": [
    "# >> Arithmetic Operation on Array "
   ]
  },
  {
   "cell_type": "code",
   "execution_count": 43,
   "metadata": {},
   "outputs": [
    {
     "name": "stdout",
     "output_type": "stream",
     "text": [
      "[3 4 5 6 7]\n",
      "[-2 -1  0  1  2]\n",
      "[ 0  4  8 12 16]\n",
      "[0.  0.5 1.  1.5 2. ]\n",
      "[10 21 32 43 54]\n",
      "[-10 -19 -28 -37 -46]\n",
      "[  0  20  60 120 200]\n",
      "[0.         0.05       0.06666667 0.075      0.08      ]\n"
     ]
    }
   ],
   "source": [
    "a = np.arange(0,5)\n",
    "b = np.array([10,20,30,40,50])\n",
    "print(a+3)                              # ADD ON 1D ARRAY \n",
    "print(a-2)                              # SUB ON 1D ARRAY\n",
    "print(a*4)                              # MUL ON 1D ARRAY\n",
    "print(a/2)                              # DIV ON 1D ARRAY     \n",
    "print(a+b)                              # ADD BOTH ARRAY 1D ARRAY \n",
    "print(a-b)                              # SUB BOTH ARRAY 1D ARRAY\n",
    "print(a*b)                              # MUL BOTH ARRAY 1D ARRAY\n",
    "print(a/b)                              # DIV BOTH ARRAY 1D ARRAY"
   ]
  },
  {
   "cell_type": "code",
   "execution_count": null,
   "metadata": {},
   "outputs": [],
   "source": []
  },
  {
   "cell_type": "markdown",
   "metadata": {},
   "source": [
    "# >> Broadcasting on Array "
   ]
  },
  {
   "cell_type": "code",
   "execution_count": 50,
   "metadata": {},
   "outputs": [
    {
     "name": "stdout",
     "output_type": "stream",
     "text": [
      "(3,)\n",
      "(2, 3)\n",
      "[[11 22 33]\n",
      " [41 52 63]]\n"
     ]
    }
   ],
   "source": [
    "a = np.arange(1,4)                              # 1D ARRAY WITH SHAPE(3,)\n",
    "print(a.shape)\n",
    "b = np.array([[10,20,30],[40,50,60]])           # 2D ARRAY WITH SHAPE(2, 3)\n",
    "print(b.shape)\n",
    "print(a+b)\n"
   ]
  },
  {
   "cell_type": "code",
   "execution_count": null,
   "metadata": {},
   "outputs": [],
   "source": []
  },
  {
   "cell_type": "markdown",
   "metadata": {},
   "source": [
    "# >> Array Manipulation  \n",
    "###                     reshape() , resize() "
   ]
  },
  {
   "cell_type": "code",
   "execution_count": 58,
   "metadata": {},
   "outputs": [
    {
     "name": "stdout",
     "output_type": "stream",
     "text": [
      "[[1 2 3]\n",
      " [4 5 6]]\n",
      "[[1 3 5]\n",
      " [2 4 6]]\n",
      "[[ 1  2  3]\n",
      " [ 4  5  6]\n",
      " [ 7  8  9]\n",
      " [10  1  2]\n",
      " [ 3  4  5]]\n",
      "[[ 1  2  3  4  5]\n",
      " [ 6  7  8  9 10]\n",
      " [ 1  2  3  4  5]]\n"
     ]
    }
   ],
   "source": [
    "a = np.arange(1,7)                             # 1D ARRAY \n",
    "b = np.reshape(a,(2,3))                        # RESHAPE INTO 2D WITH ROW \n",
    "c = np.reshape(a,(2,3),order=\"F\")              # RESHAPE INTO 2D WITH COL\n",
    "print(b)\n",
    "print(c)\n",
    "d = np.arange(1,11)                           # 1D ARRAY \n",
    "e = np.resize(d,(5,3))                        # RESIZE INTO 2D WITH ROW \n",
    "f = np.resize(d,(3,5))                        # RESIZE INTO 2D WITH COL\n",
    "print(e)\n",
    "print(f)"
   ]
  },
  {
   "cell_type": "code",
   "execution_count": null,
   "metadata": {},
   "outputs": [],
   "source": []
  },
  {
   "cell_type": "markdown",
   "metadata": {},
   "source": [
    "# >> Array Manipulation \n",
    "###      flatten() , ravel() "
   ]
  },
  {
   "cell_type": "code",
   "execution_count": 99,
   "metadata": {},
   "outputs": [
    {
     "name": "stdout",
     "output_type": "stream",
     "text": [
      "[1 2 3]\n",
      "[10 20 30 40 50 60]\n",
      "[ 1  2  3  4  5  6  7  8  9 10]\n",
      "[ 10  20  30  40  50  60  70  80  90 100 110 120]\n"
     ]
    }
   ],
   "source": [
    "a = np.arange(1,4)                                                  # 1D ARRAY \n",
    "print(a.flatten())\n",
    "b = np.array([[10,20,30],[40,50,60]])                               # 2D ARRAY INTO 1D ARRAY USING FLATTEN\n",
    "print( b.flatten())\n",
    "c = np.arange(1,11)                                                 # 1D ARRAY \n",
    "print(c.ravel())\n",
    "d = np.array([[10,20,30,40,50,60],[70,80,90,100,110,120]])          # 2D ARRAY INTO 1D ARRAY USING RAVEL\n",
    "print( d.ravel())\n"
   ]
  },
  {
   "cell_type": "code",
   "execution_count": null,
   "metadata": {},
   "outputs": [],
   "source": []
  },
  {
   "cell_type": "markdown",
   "metadata": {},
   "source": [
    "# >> Array Manipulation \n",
    "###      transpose() , swapaxes() "
   ]
  },
  {
   "cell_type": "code",
   "execution_count": 100,
   "metadata": {},
   "outputs": [
    {
     "name": "stdout",
     "output_type": "stream",
     "text": [
      "[[ 1  2  3  4  5]\n",
      " [ 6  7  8  9 10]]\n",
      "[[ 1  6]\n",
      " [ 2  7]\n",
      " [ 3  8]\n",
      " [ 4  9]\n",
      " [ 5 10]]\n",
      "[[ 1  6]\n",
      " [ 2  7]\n",
      " [ 3  8]\n",
      " [ 4  9]\n",
      " [ 5 10]]\n"
     ]
    }
   ],
   "source": [
    "a = np.arange(1,11).reshape(2,5)\n",
    "print(a)\n",
    "print(a.transpose())                          # TRANSPOSE METHOD\n",
    "print(a.swapaxes(0,1))                        # SWAPAXES METHOD "
   ]
  },
  {
   "cell_type": "code",
   "execution_count": null,
   "metadata": {},
   "outputs": [],
   "source": []
  },
  {
   "cell_type": "markdown",
   "metadata": {},
   "source": [
    "# >> Array Manipulation\n",
    "###      insert() , append() , delete() "
   ]
  },
  {
   "cell_type": "code",
   "execution_count": 98,
   "metadata": {},
   "outputs": [
    {
     "name": "stdout",
     "output_type": "stream",
     "text": [
      "[1 2 3 4 5] [8 1 2 3 4 5]\n",
      "[[ 1 10  2]\n",
      " [ 3 12  4]]\n",
      "[1 2 3 4 5] [1 2 3 4 5 8]\n",
      "[[ 1  2]\n",
      " [ 3  4]\n",
      " [10 12]]\n",
      "[1 2 3 4 5] [1 2 3 5]\n",
      "[[1 2]\n",
      " [3 4]] [[3 4]]\n"
     ]
    }
   ],
   "source": [
    "a = np.arange(1,6)                          # 1D ARRAY \n",
    "b = np.array([[1,2],[3,4]])                 # 2D ARRAY \n",
    "print(a,np.insert(a,0,8))                   # INSERT METHOD ON 1D ARRAY\n",
    "print(np.insert(b,1,[[10,12]],axis=1))      # INSERT METHOD ON 2D ARRAY\n",
    "print(a,np.append(a,8))                     # APPEND METHOD ON 1D ARRAY\n",
    "print(np.append(b,[[10,12]],axis=0))        # APPEND METHOD ON 2D ARRAY\n",
    "print(a,np.delete(a,3))                     # DELETE METHOD ON 1D ARRAY\n",
    "print(b,np.delete(b,0,axis=0))              # DELETE METHOD ON 2D ARRAY\n"
   ]
  },
  {
   "cell_type": "code",
   "execution_count": null,
   "metadata": {},
   "outputs": [],
   "source": []
  },
  {
   "cell_type": "markdown",
   "metadata": {},
   "source": [
    "# >> Matrix in Array "
   ]
  },
  {
   "cell_type": "code",
   "execution_count": 9,
   "metadata": {},
   "outputs": [
    {
     "name": "stdout",
     "output_type": "stream",
     "text": [
      "[[11 22]\n",
      " [33 44]]\n",
      "[[ 70 100]\n",
      " [150 220]]\n",
      "[[23 34]\n",
      " [31 46]]\n"
     ]
    }
   ],
   "source": [
    "a = np.array([[1,2],[3,4]])                   # 2D ARRAY \n",
    "b = np.array([[10,20],[30,40]])               # 2D ARRAY\n",
    "c = np.matrix(\"5 6;7 8\")                      # 2D ARRAY USING MATRIX CLASS  \n",
    "print(a+b)                                    # MATRIX ADDITION\n",
    "print(a.dot(b))                               # MATRIX MULTIPLICATION\n",
    "print(c*a)                                    # MATRIX MULTIPLICATION"
   ]
  },
  {
   "cell_type": "code",
   "execution_count": null,
   "metadata": {},
   "outputs": [],
   "source": []
  },
  {
   "cell_type": "markdown",
   "metadata": {},
   "source": [
    "# >> Linear Algebra in Array\n",
    "##       inverse matrix"
   ]
  },
  {
   "cell_type": "code",
   "execution_count": 22,
   "metadata": {},
   "outputs": [
    {
     "name": "stdout",
     "output_type": "stream",
     "text": [
      "[[-4.   3. ]\n",
      " [ 3.5 -2.5]]\n",
      "[[-0.2   0.1 ]\n",
      " [ 0.15 -0.05]]\n"
     ]
    }
   ],
   "source": [
    "a = np.matrix(\"5 6;7 8\")                  # 2D ARRAY USING MATRIX CLASS                 \n",
    "b = np.array([[10,20],[30,40]])           # 2D ARRAY USING NUMPY ARRAY\n",
    "ans1 = np.linalg.inv(a)                   # INVERSE OF MATRIX\n",
    "ans2 = np.linalg.inv(b)                   # INVERSE OF MATRIX \n",
    "print(ans1)\n",
    "print(ans2)"
   ]
  },
  {
   "cell_type": "code",
   "execution_count": null,
   "metadata": {},
   "outputs": [],
   "source": []
  },
  {
   "cell_type": "markdown",
   "metadata": {},
   "source": [
    "# >> Linear Algebra in Array \n",
    "##      power of matrix "
   ]
  },
  {
   "cell_type": "code",
   "execution_count": 20,
   "metadata": {},
   "outputs": [
    {
     "name": "stdout",
     "output_type": "stream",
     "text": [
      "[[ 67  78]\n",
      " [ 91 106]]\n",
      "[[1 0]\n",
      " [0 1]]\n",
      "[[ 26.5  -19.5 ]\n",
      " [-22.75  16.75]]\n"
     ]
    }
   ],
   "source": [
    "a = np.matrix(\"5 6;7 8\")                              # 2D MATRIX USING MATRIX CLASS\n",
    "ans1 = np.linalg.matrix_power(a,2)                    # +VE POWER OF 2D MATRIX   \n",
    "ans2 = np.linalg.matrix_power(a,0)                    # IDENTITY MATRIX \n",
    "ans3 = np.linalg.matrix_power(a,-2)                   # -VE POWER OF 2D MATRIX \n",
    "print(ans1)\n",
    "print(ans2)\n",
    "print(ans3)"
   ]
  },
  {
   "cell_type": "code",
   "execution_count": null,
   "metadata": {},
   "outputs": [],
   "source": []
  },
  {
   "cell_type": "markdown",
   "metadata": {},
   "source": [
    "#  >> Linear Algebra in Array \n",
    "##       Solve Linear Equation "
   ]
  },
  {
   "cell_type": "code",
   "execution_count": 27,
   "metadata": {},
   "outputs": [
    {
     "name": "stdout",
     "output_type": "stream",
     "text": [
      "[2. 3.]\n",
      "[1.56 3.12 0.52]\n"
     ]
    }
   ],
   "source": [
    "a = np.array([[3,1],[1,2]])                          # 2D EQUATIONS IN Ax FORM \n",
    "b = np.array([9,8])                                  # VALUE OF EQUATIONS IN B FORM \n",
    "c = np.array([[6,2,-5],[3,3,-2],[7,5,-1]])           # 3D EQUATIONS IN Ax FORM\n",
    "d = np.array([13,13,26])                             # VALUE OF EQUATIONS IN B FORM \n",
    "ans1 = np.linalg.solve(a,b)                          # EQUATION SOLVER USING SOLVE CLASS\n",
    "ans2 = np.linalg.solve(c,d)                          # EQUATION SOLVER USING SOLVE CLASS\n",
    "print(ans1)\n",
    "print(ans2)"
   ]
  },
  {
   "cell_type": "code",
   "execution_count": null,
   "metadata": {},
   "outputs": [],
   "source": []
  },
  {
   "cell_type": "markdown",
   "metadata": {},
   "source": [
    "# >> Linear Algebra in Array \n",
    "##      Determinant of Matrix "
   ]
  },
  {
   "cell_type": "code",
   "execution_count": 30,
   "metadata": {},
   "outputs": [
    {
     "name": "stdout",
     "output_type": "stream",
     "text": [
      "5.000000000000001\n",
      "-6.0\n"
     ]
    }
   ],
   "source": [
    "a = np.array([[3,1],[1,2]])                     # 2D MATRIX USING NUMPY ARRAY \n",
    "b = np.array([[3,1,2],[1,2,3],[4,1,1]])         # 3D MATRIX USING NUMPY ARRAY\n",
    "ans1 = np.linalg.det(a)                         # DETERMINANT OF 2D MATRIX \n",
    "ans2 = np.linalg.det(b)                         # DETERMINANT OF 3D MATRIX\n",
    "print(ans1)\n",
    "print(ans2)"
   ]
  },
  {
   "cell_type": "code",
   "execution_count": null,
   "metadata": {},
   "outputs": [],
   "source": []
  }
 ],
 "metadata": {
  "kernelspec": {
   "display_name": "Python 3",
   "language": "python",
   "name": "python3"
  },
  "language_info": {
   "codemirror_mode": {
    "name": "ipython",
    "version": 3
   },
   "file_extension": ".py",
   "mimetype": "text/x-python",
   "name": "python",
   "nbconvert_exporter": "python",
   "pygments_lexer": "ipython3",
   "version": "3.7.4"
  }
 },
 "nbformat": 4,
 "nbformat_minor": 2
}
